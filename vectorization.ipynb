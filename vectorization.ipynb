{
 "cells": [
  {
   "cell_type": "markdown",
   "id": "2f15431c-97bf-4d04-9aad-3fddb9dd283d",
   "metadata": {},
   "source": [
    "# Deep Learning - Vectorized vs Non-vectorized"
   ]
  },
  {
   "cell_type": "code",
   "execution_count": 2,
   "id": "24173e73-155c-4764-8b63-cda1a4a92256",
   "metadata": {},
   "outputs": [],
   "source": [
    "import numpy as np\n",
    "import time"
   ]
  },
  {
   "cell_type": "code",
   "execution_count": 3,
   "id": "bfbc1493-fe64-486e-87da-37af08de7fc2",
   "metadata": {},
   "outputs": [
    {
     "name": "stdout",
     "output_type": "stream",
     "text": [
      "# Non-vectorized\n",
      "z:249866.57844926702\n",
      "Time: 246.05059623718262ms\n",
      "\n",
      "# Vectorized\n",
      "z:249866.5784492721\n",
      "Time: 0.0001ms\n",
      "\n",
      "-> Vectorized approximately 2460505x faster than non-vectorized.\n"
     ]
    }
   ],
   "source": [
    "n = 1_000_000\n",
    "w = np.random.rand(n)\n",
    "x = np.random.rand(n)\n",
    "b = 0\n",
    "\n",
    "z = 0\n",
    "# Non-vectorized\n",
    "tic = time.time()\n",
    "for i in range(n):\n",
    "    z += w[i]*x[i] + b\n",
    "toc = time.time()\n",
    "time_non_vectorized = (toc-tic)*1000\n",
    "print('# Non-vectorized\\nz:' + str(z) + '\\nTime: ' + str(time_non_vectorized) + 'ms\\n')\n",
    "\n",
    "z = 0\n",
    "# Vectorized\n",
    "tic = time.time()\n",
    "z = np.dot(w, x) + b\n",
    "toc = time.time()\n",
    "time_vectorized = (toc-tic)*1000\n",
    "if time_vectorized == 0: time_vectorized = 0.0001\n",
    "print('# Vectorized\\nz:' + str(z) + '\\nTime: ' + str(time_vectorized) + 'ms\\n')\n",
    "\n",
    "print('-> Vectorized approximately ' + str(int(time_non_vectorized/time_vectorized)) +\n",
    "      'x faster than non-vectorized.')"
   ]
  },
  {
   "cell_type": "code",
   "execution_count": null,
   "id": "ad87beac-75d0-4cc0-90d1-2fea6917bd96",
   "metadata": {},
   "outputs": [],
   "source": []
  }
 ],
 "metadata": {
  "kernelspec": {
   "display_name": "Python 3 (ipykernel)",
   "language": "python",
   "name": "python3"
  },
  "language_info": {
   "codemirror_mode": {
    "name": "ipython",
    "version": 3
   },
   "file_extension": ".py",
   "mimetype": "text/x-python",
   "name": "python",
   "nbconvert_exporter": "python",
   "pygments_lexer": "ipython3",
   "version": "3.9.15"
  }
 },
 "nbformat": 4,
 "nbformat_minor": 5
}
